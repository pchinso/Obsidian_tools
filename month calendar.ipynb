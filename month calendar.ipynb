{
 "cells": [
  {
   "cell_type": "code",
   "execution_count": 1,
   "metadata": {},
   "outputs": [
    {
     "name": "stdout",
     "output_type": "stream",
     "text": [
      "| Mon | Tues | Wed | Thurs | Fri | Sat | Sun |\n",
      "|:---:|:---:|:---:|:---:|:---:|:---:|:---:|\n",
      "| [[2024-04-01 Sunday]] | [[2024-04-02 Monday]] | [[2024-04-03 Tuesday]] | [[2024-04-04 Wednesday]] | [[2024-04-05 Thursday]] | [[2024-04-06 Friday]] | [[2024-04-07 Saturday]] |\n",
      "| [[2024-04-08 Sunday]] | [[2024-04-09 Monday]] | [[2024-04-10 Tuesday]] | [[2024-04-11 Wednesday]] | [[2024-04-12 Thursday]] | [[2024-04-13 Friday]] | [[2024-04-14 Saturday]] |\n",
      "| [[2024-04-15 Sunday]] | [[2024-04-16 Monday]] | [[2024-04-17 Tuesday]] | [[2024-04-18 Wednesday]] | [[2024-04-19 Thursday]] | [[2024-04-20 Friday]] | [[2024-04-21 Saturday]] |\n",
      "| [[2024-04-22 Sunday]] | [[2024-04-23 Monday]] | [[2024-04-24 Tuesday]] | [[2024-04-25 Wednesday]] | [[2024-04-26 Thursday]] | [[2024-04-27 Friday]] | [[2024-04-28 Saturday]] |\n",
      "| [[2024-04-29 Sunday]] | [[2024-04-30 Monday]] | [[2024-04-27 Saturday]] | [[2024-04-27 Saturday]] | [[2024-04-27 Saturday]] | [[2024-04-27 Saturday]] | [[2024-04-27 Saturday]] |\n",
      "\n"
     ]
    }
   ],
   "source": [
    "import calendar\n",
    "\n",
    "def generate_markdown_calendar(year, month):\n",
    "    # Create a calendar object\n",
    "    cal = calendar.monthcalendar(year, month)\n",
    "\n",
    "    # Define the day names\n",
    "    day_names = ['Mon', 'Tues', 'Wed', 'Thurs', 'Fri', 'Sat', 'Sun']\n",
    "\n",
    "    # Get the number of days in the month\n",
    "    num_days = calendar.monthrange(year, month)[1]\n",
    "\n",
    "    # Initialize an empty table\n",
    "    markdown_table = \"| \" + \" | \".join(day_names) + \" |\\n\"\n",
    "    markdown_table += \"|:---:|:---:|:---:|:---:|:---:|:---:|:---:|\\n\"\n",
    "\n",
    "    # Create the calendar rows\n",
    "    for week in cal:\n",
    "        row = \"\"\n",
    "        for day in week:\n",
    "            if day == 0:\n",
    "                # If the day is 0, it's not in the current month\n",
    "                if month == 1:\n",
    "                    prev_month = 12\n",
    "                    prev_year = year - 1\n",
    "                else:\n",
    "                    prev_month = month - 1\n",
    "                    prev_year = year\n",
    "                day_value = calendar.monthrange(prev_year, prev_month)[1] - week.count(0) + 1\n",
    "            else:\n",
    "                day_value = day\n",
    "            row += f\"| [[{year:04d}-{month:02d}-{day_value:02d} {calendar.day_name[(day + 5) % 7]}]] \"\n",
    "        markdown_table += row + \"|\\n\"\n",
    "\n",
    "    return markdown_table\n",
    "\n",
    "# Example usage\n",
    "year = 2024\n",
    "month = 4\n",
    "calendar_table = generate_markdown_calendar(year, month)\n",
    "print(calendar_table)\n"
   ]
  },
  {
   "cell_type": "code",
   "execution_count": 17,
   "metadata": {},
   "outputs": [
    {
     "name": "stdout",
     "output_type": "stream",
     "text": [
      "2024-12-31   Tuesday\n",
      "2024-12-30   Monday\n",
      "Calendar saved to 2025_Calendar.md\n"
     ]
    }
   ],
   "source": [
    "import datetime\n",
    "\n",
    "def generate_markdown_year_calendar(year):\n",
    "\n",
    "  # Initialize the Markdown table header\n",
    "  header = '|          Mon          |          Tues          |           Wed            |          Thurs          |          Fri          |           Sat           |          Sun          |\\n'\n",
    "  separator = '|:---------------------:|:----------------------:|:------------------------:|:-----------------------:|:---------------------:|:-----------------------:|:---------------------:|\\n'\n",
    "  markdown_calendar = header + separator\n",
    "\n",
    "\n",
    "  # year of interest day 1 \n",
    "  current_date = datetime.date(year, 1, 1) \n",
    "\n",
    "  # look a week before for to start the calendar on monday\n",
    "  while current_date.strftime('%A') != 'Monday':\n",
    "      \n",
    "    current_date = current_date - datetime.timedelta(days=1)\n",
    "    print(str(current_date), ' ', current_date.strftime('%A') )\n",
    "\n",
    "  # Find the day of the week (0 = Monday, 1 = Tuesday, ..., 6 = Sunday)\n",
    "  day_of_week = current_date.weekday()    \n",
    "\n",
    "  # Loop through the entire year\n",
    "  while current_date.year == year or current_date.year == year - 1: \n",
    "      # week_number = current_date.isocalendar()[1]\n",
    "        \n",
    "      # Add a cell for the current date\n",
    "    if current_date.strftime('%A') == 'Monday':\n",
    "      markdown_calendar += '|   [[{} {}]]   |'.format(current_date.strftime('%Y-%m-%d'), current_date.strftime('%A'))\n",
    "    else:\n",
    "      markdown_calendar += '   [[{} {}]]   |'.format(current_date.strftime('%Y-%m-%d'), current_date.strftime('%A'))\n",
    "        \n",
    "    # Move to the next day\n",
    "    current_date += datetime.timedelta(days=1)\n",
    "    day_of_week = (day_of_week + 1) % 7\n",
    "\n",
    "    # Start a new row if it's Sunday\n",
    "    if day_of_week == 0:\n",
    "      markdown_calendar += '\\n'\n",
    "\n",
    "  return markdown_calendar\n",
    "\n",
    "\n",
    "# Specify the year for the calendar\n",
    "year = 2025\n",
    "\n",
    "# Generate the calendar\n",
    "calendar_markdown = generate_markdown_year_calendar(year)\n",
    "\n",
    "# Define the file name\n",
    "file_name = f'{year}_Calendar.md'\n",
    "\n",
    "# Save the Markdown calendar to the .md file\n",
    "with open(file_name, 'w') as file:\n",
    "    file.write('\\n')\n",
    "    file.write(calendar_markdown)\n",
    "    file.write('\\n')\n",
    "\n",
    "\n",
    "print(f'Calendar saved to {file_name}')\n"
   ]
  }
 ],
 "metadata": {
  "kernelspec": {
   "display_name": "cv",
   "language": "python",
   "name": "python3"
  },
  "language_info": {
   "codemirror_mode": {
    "name": "ipython",
    "version": 3
   },
   "file_extension": ".py",
   "mimetype": "text/x-python",
   "name": "python",
   "nbconvert_exporter": "python",
   "pygments_lexer": "ipython3",
   "version": "3.11.6"
  }
 },
 "nbformat": 4,
 "nbformat_minor": 2
}
